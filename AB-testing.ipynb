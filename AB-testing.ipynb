{
 "cells": [
  {
   "cell_type": "markdown",
   "metadata": {},
   "source": [
    "### Первая фаза: конверсия в триальную подписку\n",
    "\n",
    "В первой фазе эксперимента мы проверяем гипотезу об уменьшении срока триала \\\n",
    "Наша задача показать, что в случае уменьшения срока пробного периода изменение конверсии не будет существенным \n",
    "\n",
    "**Нулевая гипотеза:** \\\n",
    "Конверсия в подписку при разных условиях пробного периода НЕ отличаются.\n",
    "\n",
    "**Альтернативная гипотеза:** \\\n",
    "Конверсия в подписку при разных условиях пробного периода ЗНАЧИМО отличаются.\n",
    "\n",
    "**Пояснение:**  \n",
    "*в нашем случае, мы хотим, чтобы верной оказалась нулевая гипотеза, ведь если продолжительности триала не влияет на коверсию, значит мы можем поставить меньший триал, а значит пользователи будут быстрее конвертироваться в платящих.* \n",
    "\n",
    "В первой фазе смотрим на конверсию из first_open (первого открытия приложения) в оформление триального периода."
   ]
  },
  {
   "cell_type": "code",
   "execution_count": 1,
   "metadata": {},
   "outputs": [
    {
     "name": "stdout",
     "output_type": "stream",
     "text": [
      "В каждую группу необходимо минимум 1701 наблюдений\n"
     ]
    }
   ],
   "source": [
    "#импортируем библиотеки\n",
    "import numpy as np \n",
    "import pandas as pd \n",
    "import scipy.stats as stats \n",
    "import statsmodels.stats.api as sms \n",
    "import matplotlib as mpl \n",
    "import matplotlib.pyplot as plt \n",
    "import seaborn as sns \n",
    "from math import ceil \n",
    "\n",
    "#задаем переменную с базовой конерсией\n",
    "base_line_rate_1 = 0.125 \n",
    "#задаем переменную с ожидаемым эффектом (у нас отрицательный ожидаемый эффект, партнер считает, что станет хуже)\n",
    "expected_uplift_1 = -0.03 \n",
    "# Расчет размера эффекта на основе наших ожидаемых показателей \n",
    "effect_size_1 = sms.proportion_effectsize(base_line_rate_1, base_line_rate_1+expected_uplift_1) \n",
    "\n",
    "#Рассчитываем необходимый размер выборки\n",
    "required_n_1 = sms.NormalIndPower().solve_power( \n",
    "    effect_size_1, \n",
    "    power=0.8, \n",
    "    alpha=0.05,\n",
    "    ratio=1\n",
    "    ) # Расчет необходимого размера выборки \n",
    "\n",
    "required_n_1 = ceil(required_n_1) # Округление целого числа    \n",
    "\n",
    "print('В каждую группу необходимо минимум {} наблюдений'.format(required_n_1))"
   ]
  },
  {
   "cell_type": "markdown",
   "metadata": {},
   "source": [
    "#### Мы провели эксперимент, собрали данные, загрузим их в notebook и проведем разведочный анализ"
   ]
  },
  {
   "cell_type": "code",
   "execution_count": 2,
   "metadata": {},
   "outputs": [
    {
     "data": {
      "text/html": [
       "<div>\n",
       "<style scoped>\n",
       "    .dataframe tbody tr th:only-of-type {\n",
       "        vertical-align: middle;\n",
       "    }\n",
       "\n",
       "    .dataframe tbody tr th {\n",
       "        vertical-align: top;\n",
       "    }\n",
       "\n",
       "    .dataframe thead th {\n",
       "        text-align: right;\n",
       "    }\n",
       "</style>\n",
       "<table border=\"1\" class=\"dataframe\">\n",
       "  <thead>\n",
       "    <tr style=\"text-align: right;\">\n",
       "      <th></th>\n",
       "      <th>№</th>\n",
       "      <th>group</th>\n",
       "      <th>converted_trial</th>\n",
       "    </tr>\n",
       "  </thead>\n",
       "  <tbody>\n",
       "    <tr>\n",
       "      <th>0</th>\n",
       "      <td>1</td>\n",
       "      <td>trial_30_day</td>\n",
       "      <td>0</td>\n",
       "    </tr>\n",
       "    <tr>\n",
       "      <th>1</th>\n",
       "      <td>2</td>\n",
       "      <td>trial_30_day</td>\n",
       "      <td>0</td>\n",
       "    </tr>\n",
       "    <tr>\n",
       "      <th>2</th>\n",
       "      <td>3</td>\n",
       "      <td>trial_30_day</td>\n",
       "      <td>0</td>\n",
       "    </tr>\n",
       "    <tr>\n",
       "      <th>3</th>\n",
       "      <td>4</td>\n",
       "      <td>trial_30_day</td>\n",
       "      <td>0</td>\n",
       "    </tr>\n",
       "    <tr>\n",
       "      <th>4</th>\n",
       "      <td>5</td>\n",
       "      <td>trial_30_day</td>\n",
       "      <td>0</td>\n",
       "    </tr>\n",
       "    <tr>\n",
       "      <th>5</th>\n",
       "      <td>6</td>\n",
       "      <td>trial_30_day</td>\n",
       "      <td>0</td>\n",
       "    </tr>\n",
       "    <tr>\n",
       "      <th>6</th>\n",
       "      <td>7</td>\n",
       "      <td>trial_30_day</td>\n",
       "      <td>0</td>\n",
       "    </tr>\n",
       "    <tr>\n",
       "      <th>7</th>\n",
       "      <td>8</td>\n",
       "      <td>trial_30_day</td>\n",
       "      <td>0</td>\n",
       "    </tr>\n",
       "    <tr>\n",
       "      <th>8</th>\n",
       "      <td>9</td>\n",
       "      <td>trial_30_day</td>\n",
       "      <td>0</td>\n",
       "    </tr>\n",
       "    <tr>\n",
       "      <th>9</th>\n",
       "      <td>10</td>\n",
       "      <td>trial_30_day</td>\n",
       "      <td>0</td>\n",
       "    </tr>\n",
       "  </tbody>\n",
       "</table>\n",
       "</div>"
      ],
      "text/plain": [
       "    №         group  converted_trial\n",
       "0   1  trial_30_day                0\n",
       "1   2  trial_30_day                0\n",
       "2   3  trial_30_day                0\n",
       "3   4  trial_30_day                0\n",
       "4   5  trial_30_day                0\n",
       "5   6  trial_30_day                0\n",
       "6   7  trial_30_day                0\n",
       "7   8  trial_30_day                0\n",
       "8   9  trial_30_day                0\n",
       "9  10  trial_30_day                0"
      ]
     },
     "execution_count": 2,
     "metadata": {},
     "output_type": "execute_result"
    }
   ],
   "source": [
    "#Читаем файл с первой фазой\n",
    "data_ab = pd.read_excel('ab-test-trial.xlsx')\n",
    "data_ab.head(10)"
   ]
  },
  {
   "cell_type": "code",
   "execution_count": 3,
   "metadata": {},
   "outputs": [
    {
     "data": {
      "text/html": [
       "<div>\n",
       "<style scoped>\n",
       "    .dataframe tbody tr th:only-of-type {\n",
       "        vertical-align: middle;\n",
       "    }\n",
       "\n",
       "    .dataframe tbody tr th {\n",
       "        vertical-align: top;\n",
       "    }\n",
       "\n",
       "    .dataframe thead th {\n",
       "        text-align: right;\n",
       "    }\n",
       "</style>\n",
       "<table border=\"1\" class=\"dataframe\">\n",
       "  <thead>\n",
       "    <tr style=\"text-align: right;\">\n",
       "      <th></th>\n",
       "      <th>group</th>\n",
       "      <th>converted_trial</th>\n",
       "      <th>count</th>\n",
       "      <th>success</th>\n",
       "    </tr>\n",
       "  </thead>\n",
       "  <tbody>\n",
       "    <tr>\n",
       "      <th>0</th>\n",
       "      <td>trial_15_day</td>\n",
       "      <td>0.110523</td>\n",
       "      <td>1701</td>\n",
       "      <td>188</td>\n",
       "    </tr>\n",
       "    <tr>\n",
       "      <th>1</th>\n",
       "      <td>trial_30_day</td>\n",
       "      <td>0.128748</td>\n",
       "      <td>1701</td>\n",
       "      <td>219</td>\n",
       "    </tr>\n",
       "  </tbody>\n",
       "</table>\n",
       "</div>"
      ],
      "text/plain": [
       "          group  converted_trial  count  success\n",
       "0  trial_15_day         0.110523   1701      188\n",
       "1  trial_30_day         0.128748   1701      219"
      ]
     },
     "execution_count": 3,
     "metadata": {},
     "output_type": "execute_result"
    }
   ],
   "source": [
    "converted_trial_rates = data_ab.groupby(['group']).agg({'converted_trial':'mean', '№':'count'}).reset_index()\n",
    "converted_trial_rates = converted_trial_rates.rename(columns={'№':'count'})\n",
    "converted_trial_rates['success'] = (converted_trial_rates['count'] * converted_trial_rates['converted_trial']).astype(int)\n",
    "converted_trial_rates"
   ]
  },
  {
   "cell_type": "code",
   "execution_count": 4,
   "metadata": {
    "scrolled": true
   },
   "outputs": [
    {
     "data": {
      "image/png": "[encoded data removed]",
      "text/plain": [
       "<Figure size 576x432 with 1 Axes>"
      ]
     },
     "metadata": {
      "needs_background": "light"
     },
     "output_type": "display_data"
    }
   ],
   "source": [
    "plt.figure(figsize=(8,6)) \n",
    "\n",
    "sns.barplot(x=data_ab['group'], y=data_ab['converted_trial'], ci=False) \n",
    "\n",
    "plt.ylim(0, 0.17) \n",
    "plt.title( 'Коэффициент конверсии в группе', pad=20) \n",
    "plt.xlabel('Группа', labelpad=15) \n",
    "plt.ylabel('Конверсия (доля)', labelpad=15);\n"
   ]
  },
  {
   "cell_type": "code",
   "execution_count": 5,
   "metadata": {
    "scrolled": true
   },
   "outputs": [
    {
     "name": "stdout",
     "output_type": "stream",
     "text": [
      "z statistic: 1.64\n",
      "p-value: 0.101\n",
      "Доверительный интервал 95% для группы trial_15_day: [0.096, 0.125], фактическая коверсия = 0.111\n",
      "Доверительный интервал 95% для группы trial_30_day: [0.113, 0.145], фактическая коверсия = 0.129\n"
     ]
    }
   ],
   "source": [
    "from statsmodels.stats.proportion import proportions_ztest, proportion_confint\n",
    "trial_30_day_results_1 = data_ab[data_ab['group'] == 'trial_30_day']['converted_trial']\n",
    "trial_15_day_results_1 = data_ab[data_ab['group'] == 'trial_15_day']['converted_trial']\n",
    "n_30_day_1 = trial_30_day_results_1.count()\n",
    "n_15_day_1 = trial_15_day_results_1.count()\n",
    "successes_1 = [trial_30_day_results_1.sum(), trial_15_day_results_1.sum()]\n",
    "nobs_1 = [n_30_day_1, n_15_day_1]\n",
    "\n",
    "z_stat_1, pval_1 = proportions_ztest(successes_1, nobs=nobs_1)\n",
    "(lower_30_day_1, lower_15_day_1), (upper_30_day_1, upper_15_day_1) = proportion_confint(successes_1, nobs=nobs_1, alpha=0.05)\n",
    "\n",
    "print('z statistic: {}'.format(round(z_stat_1, 2)))\n",
    "print('p-value: {}'.format(round(pval_1, 3)))\n",
    "print('Доверительный интервал 95% для группы trial_15_day: [{}, {}], фактическая коверсия = {}'\\\n",
    "      .format(round(lower_15_day_1,3), round(upper_15_day_1,3), round(converted_trial_rates['converted_trial'][0], 3)))\n",
    "print('Доверительный интервал 95% для группы trial_30_day: [{}, {}], фактическая коверсия = {}'\\\n",
    "      .format(round(lower_30_day_1,3), round(upper_30_day_1,3), round(converted_trial_rates['converted_trial'][1], 3)))"
   ]
  },
  {
   "cell_type": "markdown",
   "metadata": {},
   "source": [
    "#### Считается, что для категориальных переменных нужно использовать метод хи-квадрат \n",
    "Давайте проверим наши результаты используя хи-квадрат \\\n",
    "Оказывается хи-квадрат Пирсона получен из z-критерия путем возведения в квадрат. \\\n",
    "То есть p-value для z-критерия и хи-квадрата будут одинаковы, а вот значение z-критерия будет равняться квадратному корню из хи-квадрата."
   ]
  },
  {
   "cell_type": "code",
   "execution_count": 6,
   "metadata": {},
   "outputs": [
    {
     "name": "stdout",
     "output_type": "stream",
     "text": [
      "Хи-квадрат: 2.68,  p-value: 0.101\n",
      "ВЫВОД: Нет значимых различий\n"
     ]
    }
   ],
   "source": [
    "# Создадим два списка с нашими группами \n",
    "trial_15_day_1 = [188, 1513]\n",
    "trial_30_day_1 = [219, 1482]\n",
    "\n",
    "# Расчитаем метрики теста\n",
    "chi2_1, p_1, dof_1, ex_1 = stats.chi2_contingency([trial_15_day_1, trial_30_day_1], correction=False)\n",
    "\n",
    "# Смотрим результаты\n",
    "print(\"Хи-квадрат: {},  p-value: {}\".format(round(chi2_1, 2), round(p_1, 3)))\n",
    "if p_1<0.05 and converted_trial_rates['converted_trial'][0]>converted_trial_rates['converted_trial'][1]:\n",
    "    print('ВЫВОД: Вариант trial_15_day лучше')\n",
    "elif p_1<0.05 and converted_trial_rates['converted_trial'][0]<converted_trial_rates['converted_trial'][1]:\n",
    "    print('ВЫВОД: Вариант trial_30_day лучше')\n",
    "else:\n",
    "    print('ВЫВОД: Нет значимых различий')"
   ]
  },
  {
   "cell_type": "markdown",
   "metadata": {},
   "source": [
    "### Вторая фаза: конверсия в платящего пользователя\n",
    "\n",
    "Во второй фазе мы хотим проверить гипотезу об увеличении конверсии в платящего пользователя на подписке с меньшим пробным периодом.\n",
    "\n",
    "**Нулевая гипотеза:** \\\n",
    "Конверсия в платного пользователя при разных условиях пробного периода НЕ отличаются.\n",
    "\n",
    "**Альтернативная гипотеза:** \\\n",
    "Конверсия в платного пользователя на подписке с триалом в 15 дней выше, чем на подписке с триалом в 30 дней.\n",
    "\n",
    "Во второй азе мы смотрим конверсию из триальной подписки в платящего пользователя (не от first_open)"
   ]
  },
  {
   "cell_type": "code",
   "execution_count": 7,
   "metadata": {},
   "outputs": [
    {
     "name": "stdout",
     "output_type": "stream",
     "text": [
      "В каждую группу необходимо минимум 741 наблюдений\n"
     ]
    }
   ],
   "source": [
    "#задаем переменную с базовой конерсией\n",
    "base_line_rate_2 = 0.33 \n",
    "#задаем переменную с ожидаемым эффектом (ждем, что конверсия вырастет на 7 процентов)\n",
    "expected_uplift_2 = 0.07\n",
    "# Расчет размера эффекта на основе наших ожидаемых показателей \n",
    "effect_size_2 = sms.proportion_effectsize(base_line_rate_2, base_line_rate_2+expected_uplift_2) \n",
    "\n",
    "#Рассчитываем необходимый размер выборки\n",
    "required_n_2 = sms.NormalIndPower().solve_power( \n",
    "    effect_size_2, \n",
    "    power=0.8, \n",
    "    alpha=0.05,\n",
    "    ratio=1\n",
    "    ) # Расчет необходимого размера выборки \n",
    "\n",
    "required_n_2 = ceil(required_n_2) # Округление целого числа    \n",
    "\n",
    "print('В каждую группу необходимо минимум {} наблюдений'.format(required_n_2))"
   ]
  },
  {
   "cell_type": "code",
   "execution_count": 8,
   "metadata": {},
   "outputs": [
    {
     "data": {
      "text/html": [
       "<div>\n",
       "<style scoped>\n",
       "    .dataframe tbody tr th:only-of-type {\n",
       "        vertical-align: middle;\n",
       "    }\n",
       "\n",
       "    .dataframe tbody tr th {\n",
       "        vertical-align: top;\n",
       "    }\n",
       "\n",
       "    .dataframe thead th {\n",
       "        text-align: right;\n",
       "    }\n",
       "</style>\n",
       "<table border=\"1\" class=\"dataframe\">\n",
       "  <thead>\n",
       "    <tr style=\"text-align: right;\">\n",
       "      <th></th>\n",
       "      <th>№</th>\n",
       "      <th>group</th>\n",
       "      <th>converted_trial</th>\n",
       "    </tr>\n",
       "  </thead>\n",
       "  <tbody>\n",
       "    <tr>\n",
       "      <th>0</th>\n",
       "      <td>1</td>\n",
       "      <td>trial_30_day</td>\n",
       "      <td>0</td>\n",
       "    </tr>\n",
       "    <tr>\n",
       "      <th>1</th>\n",
       "      <td>2</td>\n",
       "      <td>trial_30_day</td>\n",
       "      <td>0</td>\n",
       "    </tr>\n",
       "    <tr>\n",
       "      <th>2</th>\n",
       "      <td>3</td>\n",
       "      <td>trial_30_day</td>\n",
       "      <td>0</td>\n",
       "    </tr>\n",
       "    <tr>\n",
       "      <th>3</th>\n",
       "      <td>4</td>\n",
       "      <td>trial_30_day</td>\n",
       "      <td>0</td>\n",
       "    </tr>\n",
       "    <tr>\n",
       "      <th>4</th>\n",
       "      <td>5</td>\n",
       "      <td>trial_30_day</td>\n",
       "      <td>1</td>\n",
       "    </tr>\n",
       "    <tr>\n",
       "      <th>5</th>\n",
       "      <td>6</td>\n",
       "      <td>trial_30_day</td>\n",
       "      <td>0</td>\n",
       "    </tr>\n",
       "    <tr>\n",
       "      <th>6</th>\n",
       "      <td>7</td>\n",
       "      <td>trial_30_day</td>\n",
       "      <td>1</td>\n",
       "    </tr>\n",
       "    <tr>\n",
       "      <th>7</th>\n",
       "      <td>8</td>\n",
       "      <td>trial_30_day</td>\n",
       "      <td>0</td>\n",
       "    </tr>\n",
       "    <tr>\n",
       "      <th>8</th>\n",
       "      <td>9</td>\n",
       "      <td>trial_30_day</td>\n",
       "      <td>0</td>\n",
       "    </tr>\n",
       "    <tr>\n",
       "      <th>9</th>\n",
       "      <td>10</td>\n",
       "      <td>trial_30_day</td>\n",
       "      <td>0</td>\n",
       "    </tr>\n",
       "  </tbody>\n",
       "</table>\n",
       "</div>"
      ],
      "text/plain": [
       "    №         group  converted_trial\n",
       "0   1  trial_30_day                0\n",
       "1   2  trial_30_day                0\n",
       "2   3  trial_30_day                0\n",
       "3   4  trial_30_day                0\n",
       "4   5  trial_30_day                1\n",
       "5   6  trial_30_day                0\n",
       "6   7  trial_30_day                1\n",
       "7   8  trial_30_day                0\n",
       "8   9  trial_30_day                0\n",
       "9  10  trial_30_day                0"
      ]
     },
     "execution_count": 8,
     "metadata": {},
     "output_type": "execute_result"
    }
   ],
   "source": [
    "#Читаем файл со второй фазой\n",
    "data_ab_paid = pd.read_excel('ab-test-paid.xlsx')\n",
    "data_ab_paid.head(10)"
   ]
  },
  {
   "cell_type": "code",
   "execution_count": 9,
   "metadata": {
    "scrolled": true
   },
   "outputs": [
    {
     "data": {
      "text/html": [
       "<div>\n",
       "<style scoped>\n",
       "    .dataframe tbody tr th:only-of-type {\n",
       "        vertical-align: middle;\n",
       "    }\n",
       "\n",
       "    .dataframe tbody tr th {\n",
       "        vertical-align: top;\n",
       "    }\n",
       "\n",
       "    .dataframe thead th {\n",
       "        text-align: right;\n",
       "    }\n",
       "</style>\n",
       "<table border=\"1\" class=\"dataframe\">\n",
       "  <thead>\n",
       "    <tr style=\"text-align: right;\">\n",
       "      <th></th>\n",
       "      <th>group</th>\n",
       "      <th>converted_trial</th>\n",
       "      <th>count</th>\n",
       "      <th>success</th>\n",
       "    </tr>\n",
       "  </thead>\n",
       "  <tbody>\n",
       "    <tr>\n",
       "      <th>0</th>\n",
       "      <td>trial_15_day</td>\n",
       "      <td>0.398111</td>\n",
       "      <td>741</td>\n",
       "      <td>295</td>\n",
       "    </tr>\n",
       "    <tr>\n",
       "      <th>1</th>\n",
       "      <td>trial_30_day</td>\n",
       "      <td>0.340081</td>\n",
       "      <td>741</td>\n",
       "      <td>252</td>\n",
       "    </tr>\n",
       "  </tbody>\n",
       "</table>\n",
       "</div>"
      ],
      "text/plain": [
       "          group  converted_trial  count  success\n",
       "0  trial_15_day         0.398111    741      295\n",
       "1  trial_30_day         0.340081    741      252"
      ]
     },
     "execution_count": 9,
     "metadata": {},
     "output_type": "execute_result"
    }
   ],
   "source": [
    "converted_paid_rates = data_ab_paid.groupby(['group']).agg({'converted_trial':'mean', '№':'count'}).reset_index()\n",
    "converted_paid_rates = converted_paid_rates.rename(columns={'№':'count'})\n",
    "converted_paid_rates['success'] = (converted_paid_rates['count'] * converted_paid_rates['converted_trial']).astype(int)\n",
    "converted_paid_rates"
   ]
  },
  {
   "cell_type": "code",
   "execution_count": 21,
   "metadata": {
    "scrolled": true
   },
   "outputs": [
    {
     "data": {
      "image/png": "[encoded data removed]",
      "text/plain": [
       "<Figure size 576x432 with 1 Axes>"
      ]
     },
     "metadata": {
      "needs_background": "light"
     },
     "output_type": "display_data"
    }
   ],
   "source": [
    "plt.figure(figsize=(8,6)) \n",
    "\n",
    "sns.barplot(x=data_ab_paid['group'], y=data_ab_paid['converted_trial'], ci=False) \n",
    "\n",
    "plt.ylim(0, 0.45) \n",
    "plt.title( 'Коэффициент конверсии в группе', pad=20) \n",
    "plt.xlabel('Группа', labelpad=15) \n",
    "plt.ylabel('Конверсия (доля)', labelpad=15);"
   ]
  },
  {
   "cell_type": "code",
   "execution_count": 10,
   "metadata": {},
   "outputs": [
    {
     "name": "stdout",
     "output_type": "stream",
     "text": [
      "z statistic: -2.31\n",
      "p-value: 0.021\n",
      "Доверительный интервал 95% для группы trial_15_day: [0.363, 0.433], фактическая коверсия = 0.398\n",
      "Доверительный интервал 95% для группы trial_30_day: [0.306, 0.374], фактическая коверсия = 0.34\n"
     ]
    }
   ],
   "source": [
    "from statsmodels.stats.proportion import proportions_ztest, proportion_confint\n",
    "trial_30_day_results_2 = data_ab_paid[data_ab_paid['group'] == 'trial_30_day']['converted_trial']\n",
    "trial_15_day_results_2 = data_ab_paid[data_ab_paid['group'] == 'trial_15_day']['converted_trial']\n",
    "n_30_day_2 = trial_30_day_results_2.count()\n",
    "n_15_day_2 = trial_15_day_results_2.count()\n",
    "successes_2 = [trial_30_day_results_2.sum(), trial_15_day_results_2.sum()]\n",
    "nobs_2 = [n_30_day_2, n_15_day_2]\n",
    "\n",
    "z_stat_2, pval_2 = proportions_ztest(successes_2, nobs=nobs_2)\n",
    "(lower_30_day_2, lower_15_day_2), (upper_30_day_2, upper_15_day_2) = proportion_confint(successes_2, nobs=nobs_2, alpha=0.05)\n",
    "\n",
    "print('z statistic: {}'.format(round(z_stat_2, 2)))\n",
    "print('p-value: {}'.format(round(pval_2, 3)))\n",
    "print('Доверительный интервал 95% для группы trial_15_day: [{}, {}], фактическая коверсия = {}'\\\n",
    "      .format(round(lower_15_day_2,3), round(upper_15_day_2,3), round(converted_paid_rates['converted_trial'][0], 3)))\n",
    "print('Доверительный интервал 95% для группы trial_30_day: [{}, {}], фактическая коверсия = {}'\\\n",
    "      .format(round(lower_30_day_2,3), round(upper_30_day_2,3), round(converted_paid_rates['converted_trial'][1], 3)))"
   ]
  },
  {
   "cell_type": "code",
   "execution_count": 11,
   "metadata": {},
   "outputs": [
    {
     "name": "stdout",
     "output_type": "stream",
     "text": [
      "Хи-квадрат: 5.36,  p-value: 0.021\n",
      "ВЫВОД: Вариант trial_15_day лучше\n"
     ]
    }
   ],
   "source": [
    "# Проверим на хи-квадрат\n",
    "# Создадим два списка с нашими группами \n",
    "trial_15_day_2 = [295, 446]\n",
    "trial_30_day_2 = [252, 489]\n",
    "\n",
    "# Расчитаем метрики теста\n",
    "chi2_2, p_2, dof_2, ex_2 = stats.chi2_contingency([trial_15_day_2, trial_30_day_2], correction=False)\n",
    "\n",
    "# Смотрим результаты\n",
    "print(\"Хи-квадрат: {},  p-value: {}\".format(round(chi2_2, 2), round(p_2, 3)))\n",
    "if p_2<0.05 and converted_paid_rates['converted_trial'][0]>converted_paid_rates['converted_trial'][1]:\n",
    "    print('ВЫВОД: Вариант trial_15_day лучше')\n",
    "elif p_2<0.05 and converted_paid_rates['converted_trial'][0]<converted_paid_rates['converted_trial'][1]:\n",
    "    print('ВЫВОД: Вариант trial_30_day лучше')\n",
    "else:\n",
    "    print('ВЫВОД: Нет значимых различий')"
   ]
  }
 ],
 "metadata": {
  "kernelspec": {
   "display_name": "Python 3",
   "language": "python",
   "name": "python3"
  },
  "language_info": {
   "codemirror_mode": {
    "name": "ipython",
    "version": 3
   },
   "file_extension": ".py",
   "mimetype": "text/x-python",
   "name": "python",
   "nbconvert_exporter": "python",
   "pygments_lexer": "ipython3",
   "version": "3.7.6"
  }
 },
 "nbformat": 4,
 "nbformat_minor": 4
}
